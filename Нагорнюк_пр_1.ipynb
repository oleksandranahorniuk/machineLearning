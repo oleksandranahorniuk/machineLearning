{
  "metadata": {
    "language_info": {
      "codemirror_mode": {
        "name": "python",
        "version": 3
      },
      "file_extension": ".py",
      "mimetype": "text/x-python",
      "name": "python",
      "nbconvert_exporter": "python",
      "pygments_lexer": "ipython3",
      "version": "3.8"
    },
    "kernelspec": {
      "name": "python",
      "display_name": "Python (Pyodide)",
      "language": "python"
    }
  },
  "nbformat_minor": 4,
  "nbformat": 4,
  "cells": [
    {
      "cell_type": "code",
      "source": "# 15 варіант",
      "metadata": {},
      "execution_count": null,
      "outputs": []
    },
    {
      "cell_type": "code",
      "source": "import numpy as np",
      "metadata": {},
      "execution_count": null,
      "outputs": []
    },
    {
      "cell_type": "code",
      "source": "# 1\n# Створіть одновимірний масив (вектор) з найбільшими простими числами, не перевищуючи 30, та виведіть його значення\ndef is_prime(n):\n    if n <= 1:\n        return False\n    for i in range(2, int(np.sqrt(n)) + 1):\n        if n % i == 0:\n            return False\n    return True\n\nmax_prime = 30\nprime_numbers = np.array([num for num in range(2, max_prime + 1) if is_prime(num)])\n\nprint(prime_numbers)",
      "metadata": {},
      "execution_count": null,
      "outputs": []
    },
    {
      "cell_type": "code",
      "source": "# 2\n# Створіть двовимірний масив (матрицю) розміром 3x3, заповніть його значеннями квадратів найближчого більшого парного числа для кожного натурального числа, починаючи з 1, та виведіть його значення.\nmatrix_size = (3, 3)\n\n# Функція для знаходження найближчого більшого парного числа\ndef nearest_even(number):\n    return (number + 1) if (number + 1) % 2 == 0 else (number + 2)\n\n# Створіть двовимірний масив і заповніть його значеннями\nmatrix = np.zeros(matrix_size, dtype=int)\ncurrent_number = 1\n\nfor i in range(matrix_size[0]):\n    for j in range(matrix_size[1]):\n        nearest_even_number = nearest_even(current_number)\n        matrix[i][j] = nearest_even_number ** 2\n        current_number += 1\n\n# Виведіть матрицю\nprint(matrix)",
      "metadata": {},
      "execution_count": null,
      "outputs": []
    },
    {
      "cell_type": "code",
      "source": "",
      "metadata": {},
      "execution_count": null,
      "outputs": []
    },
    {
      "cell_type": "code",
      "source": "# 3\n# Створіть масив розміром 6x6, заповніть його випадковими цілими числами від -50 до 50 та знайдіть добуток непарних чисел\narray = np.random.randint(-50, 50, (6, 6), int)\n\narray = array[array % 2 != 0]\n\nresult = np.prod(array)\n\nprint('Добуток:', result)",
      "metadata": {},
      "execution_count": null,
      "outputs": []
    },
    {
      "cell_type": "code",
      "source": "#4\n# Створіть масив розміром 4x4, заповніть його випадковими дійсними числами в діапазоні від 0 до 1 та знайдіть вектор-рядок, що містить максимальні елементи в кожному стовпці.\narray = np.random.randint(0, 1, (4, 4))\n\nmax_in_each_column = np.max(array, axis=0)\n\nprint(max_in_each_column)",
      "metadata": {},
      "execution_count": null,
      "outputs": []
    },
    {
      "cell_type": "code",
      "source": "#5\n# Створіть два одновимірних масиви розміром 7, заповніть їх випадковими цілими числами в діапазоні від -10 до 10 та виконайте на них поелементні операції додавання, віднімання та множення\narray1 = np.random.randint(-10, 10, 7)\narray2 = np.random.randint(-10, 10, 7)\n\naddition = np.add(array2,array1)\nmult = np.multiply(array2,array1)\ndiv = np.divide(array2,array1)\nsubst = np.subtract(array2,array1)\n\nprint(addition, mult, div, subst)",
      "metadata": {},
      "execution_count": null,
      "outputs": []
    },
    {
      "cell_type": "code",
      "source": "#6\n# Створіть два вектори розміром 7, заповніть їх довільними цілими числами та знайдіть їх скалярний добуток.\nvector1 = np.array([1, 2, 3, 4, 5, 6, 7])\nvector2 = np.array([7, 6, 5, 4, 3, 2, 1])\n\nscalar_product = np.dot(vector1, vector2)\n\nprint(\"Скалярний добуток:\", scalar_product)",
      "metadata": {},
      "execution_count": null,
      "outputs": []
    },
    {
      "cell_type": "code",
      "source": "#7\n# Створіть дві матриці розміром 4x2 та 2x2, заповніть їх випадковими цілими числами в діапазоні від 1 до 10 та перемножте їх між собою.\nmatrix1 = np.random.randint(1, 11, size=(4, 2))\n\nmatrix2 = np.random.randint(1, 11, size=(2, 2))\n\nprint(\"Перша матриця:\")\nprint(matrix1)\n\nprint(\"\\nДруга матриця:\")\nprint(matrix2)\n\nresult_matrix = np.dot(matrix1, matrix2)\n\nprint(\"\\nРезультат перемноження матриць:\")\nprint(result_matrix)",
      "metadata": {},
      "execution_count": null,
      "outputs": []
    },
    {
      "cell_type": "code",
      "source": "# 8\n# Створіть матрицю розміром 2x2, заповніть її випадковими цілими числами в діапазоні від 1 до 7 та знайдіть її обернену матрицю.\narray8 = np.random.randint(1, 7, (2, 2))\ninverse_array8 = np.linalg.inv(array8)\nprint(array8)\n\n",
      "metadata": {},
      "execution_count": null,
      "outputs": []
    },
    {
      "cell_type": "code",
      "source": "# 9\n# Створіть матрицю розміром 3x5, заповніть її випадковими цілими числами в діапазоні від 0 до 1 та транспонуйте її.\narray9 = np.random.randint(0, 1, (3, 5))\ntransport_array9 = np.transpose(array9)\nprint(transport_array9)",
      "metadata": {},
      "execution_count": null,
      "outputs": []
    },
    {
      "cell_type": "code",
      "source": "#10\n# Створіть матрицю розміром 3x4 та вектор розміром 4, заповніть матрицю випадковими дійсними числами від 0 до 1, а вектор - випадковими цілими числами в діапазоні від 1 до 10, і знайдіть добуток матриці на вектор.\narray10 = np.random.rand(3, 4)\narray10_2 = np.random.randint(1, 10, 4)\narray10_result = np.dot(array10, array10_2)\nprint(array10_result)",
      "metadata": {},
      "execution_count": null,
      "outputs": []
    },
    {
      "cell_type": "code",
      "source": "#11\n# Створіть матрицю розміром 2x3 та вектор розміром 3, заповніть матрицю випадковими дійсними числами від 0 до 1, а вектор - випадковими дійсними числами від 0 до 1, і знайдіть суму елементів матриці, які менше за відповідний елемент вектору.\nmatrix11 = np.random.rand(2, 3)\nprint(\"Матриця:\")\nprint(matrix11)\nvector11 = np.random.rand(3)\nprint(\"\\nВектор:\")\nprint(vector11)\nresult11 = np.sum(matrix11[matrix11 < vector11])\nprint(\"\\nСума елементів матриці, менших за відповідний елемент вектору:\", result11)",
      "metadata": {},
      "execution_count": null,
      "outputs": []
    },
    {
      "cell_type": "code",
      "source": "#12\n# Створіть дві матриці розміром 8x8, заповніть їх випадковими цілими числами в діапазоні від 1 до 10 та знайдіть різницю елементів першого стовпця першої матриці.\nmatrix12 = np.random.randint(1, 11, size=(8, 8))\nprint(\"Перша матриця:\")\nprint(matrix12)\nfirst_column_diff = matrix12[:, 0] - matrix12[0, 0]\nprint(\"\\nРізниця елементів першого стовпця першої матриці:\")\nprint(first_column_diff)",
      "metadata": {},
      "execution_count": null,
      "outputs": []
    },
    {
      "cell_type": "code",
      "source": "#13\n# Створіть дві матриці розміром 7x7, заповніть їх випадковими дійсними числами в діапазоні від -1 до 1 та знайдіть добуток їх елементів\nmatrix1 = np.random.uniform(-1, 1, size=(7, 7))\nmatrix2 = np.random.uniform(-1, 1, size=(7, 7))\nproduct = np.prod(matrix1) * np.prod(matrix2)\nprint(\"Добуток елементів обох матриць:\", product)",
      "metadata": {},
      "execution_count": null,
      "outputs": []
    },
    {
      "cell_type": "code",
      "source": "#14\n# Створіть матрицю розміром 7x7, заповніть її випадковими дійсними числами в діапазоні від -10 до 10 та знайдіть добуток елементів матриці, які більше за їх середнє арифметичне значення.\nmatrix = np.random.uniform(-10, 10, size=(7, 7))\nprint(\"Матриця:\")\nprint(matrix)\nmean_value = np.mean(matrix)\ngreater_than_mean = matrix[matrix > mean_value]\nproduct = np.prod(greater_than_mean)\nprint(\"\\nДобуток елементів, більших за середнє арифметичне:\", product)",
      "metadata": {},
      "execution_count": null,
      "outputs": []
    },
    {
      "cell_type": "code",
      "source": "#15\n# Створіть матрицю розміром 9x9, заповніть її випадковими дійсними числами в діапазоні від -0.5 до 0.5 та знайдіть вектор-стовпчик, що містить найбільше за модулем ціле значення в кожному рядку матриці.\nmatrix = np.random.uniform(-0.5, 0.5, size=(9, 9))\nprint(\"Матриця:\")\nprint(matrix)\nmax_abs_indices = np.argmax(np.abs(matrix), axis=1)\nresult_vector = matrix[np.arange(matrix.shape[0]), max_abs_indices]\nprint(\"\\nВектор-стовпчик з найбільшими за модулем значеннями в кожному рядку:\")\nprint(result_vector)",
      "metadata": {},
      "execution_count": null,
      "outputs": []
    },
    {
      "cell_type": "code",
      "source": "#*Висновок:* на практичній роботі я поглибила знання з мови програмування Python, використовуючи бібліотеку \"numpy\". Протягом роботи я виконувала різні завдання зі створення, додавання, віднімання, множення матриць та векторів, а також їх елементів.\n",
      "metadata": {},
      "execution_count": null,
      "outputs": []
    }
  ]
}